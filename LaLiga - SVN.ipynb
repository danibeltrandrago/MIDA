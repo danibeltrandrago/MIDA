{
 "metadata": {
  "language_info": {
   "codemirror_mode": {
    "name": "ipython",
    "version": 3
   },
   "file_extension": ".py",
   "mimetype": "text/x-python",
   "name": "python",
   "nbconvert_exporter": "python",
   "pygments_lexer": "ipython3",
   "version": "3.8.5-final"
  },
  "orig_nbformat": 2,
  "kernelspec": {
   "name": "python38564bit8b00743497504ebfa7197a02b6cd39d2",
   "display_name": "Python 3.8.5 64-bit",
   "language": "python"
  }
 },
 "nbformat": 4,
 "nbformat_minor": 2,
 "cells": [
  {
   "source": [
    "# La Liga - Plotting of SVM"
   ],
   "cell_type": "markdown",
   "metadata": {}
  },
  {
   "cell_type": "code",
   "execution_count": 1,
   "metadata": {},
   "outputs": [],
   "source": [
    "import pandas as pd\n",
    "import numpy as np\n",
    "from matplotlib import pyplot as plt\n",
    "import sklearn as sk"
   ]
  },
  {
   "cell_type": "code",
   "execution_count": 2,
   "metadata": {},
   "outputs": [
    {
     "output_type": "execute_result",
     "data": {
      "text/plain": [
       "                name        position  team_games_played  time_played  \\\n",
       "0    Aarón Escandell         Portero                  8            0   \n",
       "1  Abdallahi Mahmoud  Centrocampista                  9           45   \n",
       "2    Abdoulaye Diaby  Centrocampista                  8           17   \n",
       "3      Adnan Januzaj  Centrocampista                  9          185   \n",
       "4       Adrián López       Delantero                  8          314   \n",
       "\n",
       "   successful_layoffs  open_play_passes  times_tackled  backward_passes  \\\n",
       "0                   0                 0              0                0   \n",
       "1                   1                 4              1                1   \n",
       "2                   0                 8              2                1   \n",
       "3                   0                94              4               25   \n",
       "4                   3                94             12               23   \n",
       "\n",
       "   successful_passes_opposition_half  unsuccessful_launches  ...  \\\n",
       "0                                  0                      0  ...   \n",
       "1                                  2                      1  ...   \n",
       "2                                  5                      0  ...   \n",
       "3                                 64                      0  ...   \n",
       "4                                 56                      0  ...   \n",
       "\n",
       "   saves_from_penalty  set_pieces_goals  last_man_tackle  \\\n",
       "0                   0                 0                0   \n",
       "1                   0                 0                0   \n",
       "2                   0                 0                0   \n",
       "3                   0                 0                0   \n",
       "4                   0                 0                0   \n",
       "\n",
       "   clearances_off_the_line  saves_made_caught  penalties_off_target  \\\n",
       "0                        0                  0                     0   \n",
       "1                        0                  0                     0   \n",
       "2                        0                  0                     0   \n",
       "3                        0                  0                     0   \n",
       "4                        0                  0                     0   \n",
       "\n",
       "   own_goal_scored  drops  crosses_not_claimed  other_goals  \n",
       "0                0      0                    0            0  \n",
       "1                0      0                    0            0  \n",
       "2                0      0                    0            0  \n",
       "3                0      0                    0            0  \n",
       "4                0      0                    0            0  \n",
       "\n",
       "[5 rows x 124 columns]"
      ],
      "text/html": "<div>\n<style scoped>\n    .dataframe tbody tr th:only-of-type {\n        vertical-align: middle;\n    }\n\n    .dataframe tbody tr th {\n        vertical-align: top;\n    }\n\n    .dataframe thead th {\n        text-align: right;\n    }\n</style>\n<table border=\"1\" class=\"dataframe\">\n  <thead>\n    <tr style=\"text-align: right;\">\n      <th></th>\n      <th>name</th>\n      <th>position</th>\n      <th>team_games_played</th>\n      <th>time_played</th>\n      <th>successful_layoffs</th>\n      <th>open_play_passes</th>\n      <th>times_tackled</th>\n      <th>backward_passes</th>\n      <th>successful_passes_opposition_half</th>\n      <th>unsuccessful_launches</th>\n      <th>...</th>\n      <th>saves_from_penalty</th>\n      <th>set_pieces_goals</th>\n      <th>last_man_tackle</th>\n      <th>clearances_off_the_line</th>\n      <th>saves_made_caught</th>\n      <th>penalties_off_target</th>\n      <th>own_goal_scored</th>\n      <th>drops</th>\n      <th>crosses_not_claimed</th>\n      <th>other_goals</th>\n    </tr>\n  </thead>\n  <tbody>\n    <tr>\n      <th>0</th>\n      <td>Aarón Escandell</td>\n      <td>Portero</td>\n      <td>8</td>\n      <td>0</td>\n      <td>0</td>\n      <td>0</td>\n      <td>0</td>\n      <td>0</td>\n      <td>0</td>\n      <td>0</td>\n      <td>...</td>\n      <td>0</td>\n      <td>0</td>\n      <td>0</td>\n      <td>0</td>\n      <td>0</td>\n      <td>0</td>\n      <td>0</td>\n      <td>0</td>\n      <td>0</td>\n      <td>0</td>\n    </tr>\n    <tr>\n      <th>1</th>\n      <td>Abdallahi Mahmoud</td>\n      <td>Centrocampista</td>\n      <td>9</td>\n      <td>45</td>\n      <td>1</td>\n      <td>4</td>\n      <td>1</td>\n      <td>1</td>\n      <td>2</td>\n      <td>1</td>\n      <td>...</td>\n      <td>0</td>\n      <td>0</td>\n      <td>0</td>\n      <td>0</td>\n      <td>0</td>\n      <td>0</td>\n      <td>0</td>\n      <td>0</td>\n      <td>0</td>\n      <td>0</td>\n    </tr>\n    <tr>\n      <th>2</th>\n      <td>Abdoulaye Diaby</td>\n      <td>Centrocampista</td>\n      <td>8</td>\n      <td>17</td>\n      <td>0</td>\n      <td>8</td>\n      <td>2</td>\n      <td>1</td>\n      <td>5</td>\n      <td>0</td>\n      <td>...</td>\n      <td>0</td>\n      <td>0</td>\n      <td>0</td>\n      <td>0</td>\n      <td>0</td>\n      <td>0</td>\n      <td>0</td>\n      <td>0</td>\n      <td>0</td>\n      <td>0</td>\n    </tr>\n    <tr>\n      <th>3</th>\n      <td>Adnan Januzaj</td>\n      <td>Centrocampista</td>\n      <td>9</td>\n      <td>185</td>\n      <td>0</td>\n      <td>94</td>\n      <td>4</td>\n      <td>25</td>\n      <td>64</td>\n      <td>0</td>\n      <td>...</td>\n      <td>0</td>\n      <td>0</td>\n      <td>0</td>\n      <td>0</td>\n      <td>0</td>\n      <td>0</td>\n      <td>0</td>\n      <td>0</td>\n      <td>0</td>\n      <td>0</td>\n    </tr>\n    <tr>\n      <th>4</th>\n      <td>Adrián López</td>\n      <td>Delantero</td>\n      <td>8</td>\n      <td>314</td>\n      <td>3</td>\n      <td>94</td>\n      <td>12</td>\n      <td>23</td>\n      <td>56</td>\n      <td>0</td>\n      <td>...</td>\n      <td>0</td>\n      <td>0</td>\n      <td>0</td>\n      <td>0</td>\n      <td>0</td>\n      <td>0</td>\n      <td>0</td>\n      <td>0</td>\n      <td>0</td>\n      <td>0</td>\n    </tr>\n  </tbody>\n</table>\n<p>5 rows × 124 columns</p>\n</div>"
     },
     "metadata": {},
     "execution_count": 2
    }
   ],
   "source": [
    "df = pd.read_csv('laliga.csv')\n",
    "df.head()"
   ]
  },
  {
   "source": [
    "## Preprocessing"
   ],
   "cell_type": "markdown",
   "metadata": {}
  },
  {
   "source": [
    "df = df.dropna()\n",
    "\n",
    "#df = df.drop(['team_games_played'], 1)\n",
    "df = df[df[\"time_played\"] > 100]\n",
    "\n",
    "le = sk.preprocessing.LabelEncoder()\n",
    "df['position'] = le.fit_transform(df['position'])\n",
    "\n",
    "df.head()"
   ],
   "cell_type": "code",
   "metadata": {},
   "execution_count": 18,
   "outputs": [
    {
     "output_type": "error",
     "ename": "AttributeError",
     "evalue": "module 'sklearn' has no attribute 'preprocessing'",
     "traceback": [
      "\u001b[0;31m---------------------------------------------------------------------------\u001b[0m",
      "\u001b[0;31mAttributeError\u001b[0m                            Traceback (most recent call last)",
      "\u001b[0;32m<ipython-input-18-0f834c36a376>\u001b[0m in \u001b[0;36m<module>\u001b[0;34m\u001b[0m\n\u001b[1;32m      4\u001b[0m \u001b[0mdf\u001b[0m \u001b[0;34m=\u001b[0m \u001b[0mdf\u001b[0m\u001b[0;34m[\u001b[0m\u001b[0mdf\u001b[0m\u001b[0;34m[\u001b[0m\u001b[0;34m\"time_played\"\u001b[0m\u001b[0;34m]\u001b[0m \u001b[0;34m>\u001b[0m \u001b[0;36m100\u001b[0m\u001b[0;34m]\u001b[0m\u001b[0;34m\u001b[0m\u001b[0;34m\u001b[0m\u001b[0m\n\u001b[1;32m      5\u001b[0m \u001b[0;34m\u001b[0m\u001b[0m\n\u001b[0;32m----> 6\u001b[0;31m \u001b[0mle\u001b[0m \u001b[0;34m=\u001b[0m \u001b[0msk\u001b[0m\u001b[0;34m.\u001b[0m\u001b[0mpreprocessing\u001b[0m\u001b[0;34m.\u001b[0m\u001b[0mLabelEncoder\u001b[0m\u001b[0;34m(\u001b[0m\u001b[0;34m)\u001b[0m\u001b[0;34m\u001b[0m\u001b[0;34m\u001b[0m\u001b[0m\n\u001b[0m\u001b[1;32m      7\u001b[0m \u001b[0mdf\u001b[0m\u001b[0;34m[\u001b[0m\u001b[0;34m'position'\u001b[0m\u001b[0;34m]\u001b[0m \u001b[0;34m=\u001b[0m \u001b[0mle\u001b[0m\u001b[0;34m.\u001b[0m\u001b[0mfit_transform\u001b[0m\u001b[0;34m(\u001b[0m\u001b[0mdf\u001b[0m\u001b[0;34m[\u001b[0m\u001b[0;34m'position'\u001b[0m\u001b[0;34m]\u001b[0m\u001b[0;34m)\u001b[0m\u001b[0;34m\u001b[0m\u001b[0;34m\u001b[0m\u001b[0m\n\u001b[1;32m      8\u001b[0m \u001b[0;34m\u001b[0m\u001b[0m\n",
      "\u001b[0;31mAttributeError\u001b[0m: module 'sklearn' has no attribute 'preprocessing'"
     ]
    }
   ]
  },
  {
   "cell_type": "code",
   "execution_count": null,
   "metadata": {},
   "outputs": [],
   "source": []
  }
 ]
}